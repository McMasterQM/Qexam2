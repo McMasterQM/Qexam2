{
 "cells": [
  {
   "cell_type": "markdown",
   "metadata": {},
   "source": [
    "# Knowledge Test 2\n",
    "\n",
    "## &#x1f468;&#x200d;&#x1f3eb; Purpose\n",
    "This contains questions about the course material\n",
    "1. &#x1f3b2; Multiple-Choice Questions. (One or more answers, separated by spaces or commas.)\n",
    "2. &#x1fa99; True/False Questions. (Write True/False.)\n",
    "3. &#x1F5A9; Numerical answers requiring some calculation. (Write the numerical answer in the requested units with at least 4 digits of precision.)\n",
    "4. &#x1f9ee; Numerical answers requiring minimal calculation or counting. (Write the answer as a number.)\n",
    "4. &#x1f500; Matching Questions. (Write pairs sequentially.)\n",
    "\n",
    "> **Notes:**\n",
    ">- You can upload files to show your mathematical work; you can also type mathematics using Markdown.\n",
    ">- You can use the notebook as a calculator for numerical problems; but you can also just type in your answer computed offline.\n",
    ">- You may find these [sheets containing reference data and mathematical formulas/identities](https://github.com/QC-Edu/IntroQM2022/blob/master/book/documents/ReferenceConstantsConversionsMath.pdf) useful.\n",
    "\n",
    "\n",
    "-----\n",
    "## &#x1f4dc; Instructions\n",
    "\n",
    "Answer the following 10 questions. Remember to *always* put your answer in the indicated position and never use the bold-faced word \"Answer\" elsewhere. Other than that restriction, the rest of your notebook is yours to play with.\n"
   ]
  },
  {
   "cell_type": "code",
   "execution_count": 1,
   "metadata": {},
   "outputs": [],
   "source": [
    "import numpy as np\n",
    "import scipy\n",
    "from scipy import constants"
   ]
  },
  {
   "cell_type": "markdown",
   "metadata": {},
   "source": [
    "----\n",
    "The following description is used in questions 1-5. You are given a Lithium dication that has been prepared in a state described by the following normalized wavefunction, \n",
    "\n",
    "$$\n",
    "\\Psi_{\\text{Li}^{+2}}(\\mathbf{r},t) = \\sqrt{\\tfrac{1}{2}}\\psi_{3,0,0}(\\mathbf{r},t)-\\sqrt{\\tfrac{1}{6}}\\psi_{3,1,-1}(\\mathbf{r},t) + \\sqrt{\\tfrac{1}{3}}\\psi_{3,2,2}(\\mathbf{r},t)\n",
    "$$\n",
    "\n",
    "where $\\psi_{n,l,m}(\\mathbf{r},t)$ denote the exact normalized eigenfunctions of the Lithium dication.\n",
    "\n"
   ]
  },
  {
   "cell_type": "markdown",
   "metadata": {},
   "source": [
    "----\n",
    "**1.** &#x1F5A9; **What is the expectation value of the energy for this system?** Give your answer in atomic units, as a floating-point number."
   ]
  },
  {
   "cell_type": "markdown",
   "metadata": {},
   "source": [
    "**Answer:**"
   ]
  },
  {
   "cell_type": "markdown",
   "metadata": {},
   "source": [
    "-----\n",
    "**2.** &#x1F5A9; **What is the expectation value of the square magnitude of the total orbital angular momentum, $\\langle \\hat{L}^2 \\rangle$?** Give your answer as a floating-point number in atomic units.\n",
    "\n",
    "**Answer:**"
   ]
  },
  {
   "cell_type": "markdown",
   "metadata": {},
   "source": [
    "----\n",
    "**3**. &#x1F5A9; **What is the expectation value of the orbital angular momentum around the z axis, $\\langle \\hat{L}_z \\rangle$?** Give your answer in atomic units.\n",
    "\n",
    "**Answer:**"
   ]
  },
  {
   "cell_type": "markdown",
   "metadata": {},
   "source": [
    "-----\n",
    "**4.**&#x1f9ee; **If you measure the total orbital angular momentum for this system, what is the probability that you obtain \"zero\" for the answer?** (Be sure to report your answer as a floating-point number between zero and one.)\n",
    "\n",
    "**Answer:**"
   ]
  },
  {
   "cell_type": "markdown",
   "metadata": {},
   "source": [
    "-----\n",
    "**5.** &#x1fa99; **$\\Psi(\\mathbf{r},t)$ is not a stationary state of $\\text{Li}^{+2}$?** (True/False)\n",
    "\n",
    "**Answer:**"
   ]
  },
  {
   "cell_type": "markdown",
   "metadata": {},
   "source": [
    "-----\n",
    "-----\n",
    "The next 5 problems related to the expectation values of $r^k$ and related properties in Hydrogenic atoms.\n",
    "\n",
    "The goal of this problem is to explore the radial distribution function and its expectation values for hydrogenic atoms. A key integral that will be useful is\n",
    "$$\n",
    "\\int_0^{\\infty} r^n e^{-\\beta r} dr = \\frac{n!}{\\beta^{n+1}}\n",
    "$$\n",
    "\n",
    "It is also useful to know [Kramer's recursion relation](https://phlconnect.ched.gov.ph/admin/uploads/81dc9bdb52d04dc20036dbd8313ed055/53-hydrogen-4.pdf) for radial expectation values. If $\\psi_{nlm}(r,\\theta,\\phi)$ denotes a normalized hydrogenic wavefunction, then Kramer's recursion states that:\n",
    "$$\n",
    "\\langle \\psi_{nlm} | r^k | \\psi_{nlm} \\rangle = a_{n}(k,Z) \\langle \\psi_{nlm} | r^{k-1} | \\psi_{nlm} \\rangle + b_{nl}(k,Z) \\langle \\psi_{nlm} | r^{k-2} | \\psi_{nlm} \\rangle\n",
    "$$\n",
    "where\n",
    "\n",
    "\\begin{align}\n",
    "a_{n}(k,Z) &=  \\frac{n^2(2k+1)}{(k+1)Z}\\\\\n",
    "b_{nl}(k,Z) &= \\frac{n^2 k \\left(k^2 - (2l+1)^2\\right)}{4Z^2(k+1)}\n",
    "\\end{align}\n",
    "A detailed derivation of this relation can be found [here](http://www.blazartheory.com/files/notes/qmnotes/Kramers__Relation.pdf). You will not *need* to use this relation in this problem; it's a matter of preference whether you use this relation or perform integrals.\n",
    "\n",
    "Throughout this problem you should use atomic units.\n",
    "\n",
    "We will focus on the 3d state of the Hydrogen atom in this problem."
   ]
  },
  {
   "cell_type": "markdown",
   "metadata": {},
   "source": [
    "----\n",
    "**6.** &#x270d;&#xfe0f;&#x1F5A9; **What is the expectation value of $r^{-1}$ for the $3d$ orbital of the Hydrogen atom.** That is, what is the expectation value of \n",
    "$$\n",
    "\\langle \\psi_{32m} | r^{-1} | \\psi_{32m} \\rangle\n",
    "$$\n",
    "for an electron bound to a nuclear of charge $Z=1$. *Report your answer as a float, in atomic units.*\n",
    "\n",
    "**Answer:**"
   ]
  },
  {
   "cell_type": "markdown",
   "metadata": {},
   "source": [
    "-----\n",
    "**7.** &#x270d;&#xfe0f;&#x1F5A9; **What is the expectation value of $r^2$ for the 3d orbital in the hydrogen atom (Z=1). That is, what is the expectation value of \n",
    "$$\n",
    "\\langle \\psi_{32m} | r^2 | \\psi_{32m} \\rangle\n",
    "$$\n",
    "in the Hydrogen atom? *Report your answer as a float, in atomic units.*\n",
    "\n",
    "**Answer:**\n"
   ]
  },
  {
   "cell_type": "markdown",
   "metadata": {},
   "source": [
    "**8.** &#x270d;&#xfe0f;&#x1F5A9;  **What is the most probable distance to find an electron from the nucleus in the 3d orbital of a hydrogen atom?** Report your answer as a float, in atomic units.\n",
    "\n",
    "**Answer:** "
   ]
  },
  {
   "cell_type": "markdown",
   "metadata": {},
   "source": [
    "-----\n",
    "**9.** &#x270d;&#xfe0f;&#x1F5A9; **What is the expectation value of the momentum squared, $p^2$, for the 3d orbital in the hydrogen atom (Z=1). That is, what is the expectation value of \n",
    "$$\n",
    "\\langle \\psi_{32m} | \\hat{p}^2 | \\psi_{32m} \\rangle\n",
    "$$\n",
    "in the Hydrogen atom? *Report your answer as a float, in atomic units.*\n",
    "\n",
    "**Answer:**"
   ]
  },
  {
   "cell_type": "markdown",
   "metadata": {},
   "source": [
    "----\n",
    "**10.** The Heisenberg Uncertainty Principle between momentum and position in 3 dimensions states that \n",
    "$$\n",
    "\\sigma_r^2 \\sigma_p^2 \\ge  \\tfrac{3}{4} \\hbar^2\n",
    "$$\n",
    "where\n",
    "$$\n",
    "\\sigma_r^2 = \\langle \\psi_{n,n-1,m} | r^2 | \\psi_{n,n-1,m} \\rangle - \\langle \\psi_{n,n-1,m} | r | \\psi_{n,n-1,m} \\rangle^2 \\\\\n",
    "\\sigma_p^2 = \\langle \\psi_{n,n-1,m} | \\hat{p}^2 | \\psi_{n,n-1,m} \\rangle - \\langle \\psi_{n,n-1,m} | \\hat{p} | \\psi_{n,n-1,m} \\rangle^2\n",
    "$$\n",
    "**What is the value of $\\sigma_r^2 \\sigma_p^2$ for the 3d state of the hydrogen atom?** *Report your answer as a float, in atomic units.*\n",
    "\n",
    "**Answer:**"
   ]
  }
 ],
 "metadata": {
  "interpreter": {
   "hash": "8867fa4a874d625ac151e80518eaa96dde9c32243951e64c9d5c087633ad9a9a"
  },
  "kernelspec": {
   "display_name": "Python 3 (ipykernel)",
   "language": "python",
   "name": "python3"
  },
  "language_info": {
   "codemirror_mode": {
    "name": "ipython",
    "version": 3
   },
   "file_extension": ".py",
   "mimetype": "text/x-python",
   "name": "python",
   "nbconvert_exporter": "python",
   "pygments_lexer": "ipython3",
   "version": "3.9.7"
  }
 },
 "nbformat": 4,
 "nbformat_minor": 2
}
